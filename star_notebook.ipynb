{
 "cells": [
  {
   "cell_type": "code",
   "execution_count": null,
   "metadata": {},
   "outputs": [],
   "source": [
    "from IPython.display import Image\n",
    "import warnings\n",
    "warnings.filterwarnings('ignore')\n",
    "import eleanor\n",
    "import numpy as np\n",
    "from astropy import units as u\n",
    "import matplotlib.pyplot as plt\n",
    "from astropy.coordinates import SkyCoord\n",
    "import pandas as pd\n",
    "\n",
    "import matplotlib.pyplot as plt; plt.rcParams[\"figure.dpi\"] = 90\n",
    "import astropy\n",
    "from astropy.io import fits\n",
    "from astropy.stats import sigma_clip\n",
    "\n",
    "from transitleastsquares import (\n",
    "    transitleastsquares,\n",
    "    cleaned_array,\n",
    "    catalog_info,\n",
    "    transit_mask\n",
    "    )\n",
    "\n",
    "from star import Star\n",
    "import csv"
   ]
  },
  {
   "cell_type": "code",
   "execution_count": null,
   "metadata": {},
   "outputs": [],
   "source": [
    "ticNames = pd.read_csv('your csv file with names and TIC IDs goes here')\n",
    "ticNames"
   ]
  },
  {
   "cell_type": "code",
   "execution_count": null,
   "metadata": {},
   "outputs": [],
   "source": [
    "stars_save = []\n",
    "\n",
    "for i in range(len(ticNames)):\n",
    "    star = Star(ticNames.iloc[i,0], int(ticNames.iloc[i,1]))\n",
    "    stars_save.append(star)"
   ]
  },
  {
   "cell_type": "code",
   "execution_count": null,
   "metadata": {},
   "outputs": [],
   "source": [
    "for i in range(len(stars_save)):\n",
    "    if stars_save[i].complete is False:\n",
    "\n",
    "        star_values = []\n",
    "\n",
    "        stars_save[i].get_data()\n",
    "        stars_save[i].mask_data(0.950, 1.02)\n",
    "        stars_save[i].run_tls()\n",
    "        stars_save[i].vettingRoutine(50)\n",
    "        stars_save[i].transits_test()\n",
    "        stars_save[i].get_results()\n",
    "\n",
    "        star_values.append(stars_save[i].name) \n",
    "        star_values.append(stars_save[i].tic_id) \n",
    "        star_values.append(stars_save[i].snr_results) \n",
    "        star_values.append(stars_save[i].results.snr) \n",
    "        star_values.append(stars_save[i].sde_results) \n",
    "        star_values.append(stars_save[i].results.SDE) \n",
    "        star_values.append(stars_save[i].depth_results) \n",
    "        star_values.append(stars_save[i].max_deviation) \n",
    "        star_values.append(stars_save[i].avg_deviation)\n",
    "        star_values.append(stars_save[i].transits_results)\n",
    "        star_values.append(stars_save[i].results.distinct_transit_count)\n",
    "        star_values.append(stars_save[i].radius)\n",
    "        star_values.append(stars_save[i].results.period)\n",
    "        star_values.append(stars_save[i].results.duration)\n",
    "\n",
    "        with open('your csv file to save the data goes here', 'a') as outfile:\n",
    "            writer = csv.writer(outfile)\n",
    "            writer.writerow(star_values)"
   ]
  }
 ],
 "metadata": {
  "interpreter": {
   "hash": "e8e67291fb397a699d14315a8524f1eb07cacc2207363209a574351950b86262"
  },
  "kernelspec": {
   "display_name": "Python 3.7.8 64-bit",
   "name": "python3"
  },
  "language_info": {
   "codemirror_mode": {
    "name": "ipython",
    "version": 3
   },
   "file_extension": ".py",
   "mimetype": "text/x-python",
   "name": "python",
   "nbconvert_exporter": "python",
   "pygments_lexer": "ipython3",
   "version": "3.7.8"
  },
  "orig_nbformat": 4
 },
 "nbformat": 4,
 "nbformat_minor": 2
}

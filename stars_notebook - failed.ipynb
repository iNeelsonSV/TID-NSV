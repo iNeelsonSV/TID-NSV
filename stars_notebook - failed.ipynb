{
 "cells": [
  {
   "cell_type": "code",
   "execution_count": 1,
   "metadata": {},
   "outputs": [],
   "source": [
    "from IPython.display import Image\n",
    "import warnings\n",
    "warnings.filterwarnings('ignore')\n",
    "import eleanor\n",
    "import numpy as np\n",
    "from astropy import units as u\n",
    "import matplotlib.pyplot as plt\n",
    "from astropy.coordinates import SkyCoord\n",
    "import pandas as pd\n",
    "\n",
    "import matplotlib.pyplot as plt; plt.rcParams[\"figure.dpi\"] = 90\n",
    "import astropy\n",
    "from astropy.io import fits\n",
    "from astropy.stats import sigma_clip\n",
    "\n",
    "from transitleastsquares import (\n",
    "    transitleastsquares,\n",
    "    cleaned_array,\n",
    "    catalog_info,\n",
    "    transit_mask\n",
    "    )\n",
    "\n",
    "from star import Star\n",
    "import csv"
   ]
  },
  {
   "cell_type": "code",
   "execution_count": 44,
   "metadata": {},
   "outputs": [
    {
     "data": {
      "text/html": [
       "<div>\n",
       "<style scoped>\n",
       "    .dataframe tbody tr th:only-of-type {\n",
       "        vertical-align: middle;\n",
       "    }\n",
       "\n",
       "    .dataframe tbody tr th {\n",
       "        vertical-align: top;\n",
       "    }\n",
       "\n",
       "    .dataframe thead th {\n",
       "        text-align: right;\n",
       "    }\n",
       "</style>\n",
       "<table border=\"1\" class=\"dataframe\">\n",
       "  <thead>\n",
       "    <tr style=\"text-align: right;\">\n",
       "      <th></th>\n",
       "      <th>Host name</th>\n",
       "      <th>TIC ID</th>\n",
       "    </tr>\n",
       "  </thead>\n",
       "  <tbody>\n",
       "    <tr>\n",
       "      <th>0</th>\n",
       "      <td>14 Her</td>\n",
       "      <td>219483057</td>\n",
       "    </tr>\n",
       "    <tr>\n",
       "      <th>1</th>\n",
       "      <td>HR 5183</td>\n",
       "      <td>379117362</td>\n",
       "    </tr>\n",
       "    <tr>\n",
       "      <th>2</th>\n",
       "      <td>HD 26161</td>\n",
       "      <td>467753728</td>\n",
       "    </tr>\n",
       "    <tr>\n",
       "      <th>3</th>\n",
       "      <td>HD 66428</td>\n",
       "      <td>73238215</td>\n",
       "    </tr>\n",
       "  </tbody>\n",
       "</table>\n",
       "</div>"
      ],
      "text/plain": [
       "  Host name     TIC ID\n",
       "0    14 Her  219483057\n",
       "1   HR 5183  379117362\n",
       "2  HD 26161  467753728\n",
       "3  HD 66428   73238215"
      ]
     },
     "execution_count": 44,
     "metadata": {},
     "output_type": "execute_result"
    }
   ],
   "source": [
    "ticNames = pd.read_csv('your csv file with names and TIC IDs goes here')\n",
    "ticNames"
   ]
  },
  {
   "cell_type": "code",
   "execution_count": 45,
   "metadata": {},
   "outputs": [],
   "source": [
    "stars_save = []\n",
    "\n",
    "for i in range(len(ticNames)):\n",
    "    star = Star(ticNames.iloc[i,0], int(ticNames.iloc[i,1]))\n",
    "    stars_save.append(star)"
   ]
  },
  {
   "cell_type": "code",
   "execution_count": 46,
   "metadata": {},
   "outputs": [
    {
     "name": "stdout",
     "output_type": "stream",
     "text": [
      "Found star in Sector(s) 24 25\n",
      "Downloading URL https://mast.stsci.edu/tesscut/api/v0.1/astrocut?ra=242.601313649114&dec=43.8176385378053&y=31&x=31&units=px&sector=24 to C:\\Users\\nosal\\.eleanor/tesscut\\tesscut_20211208235405.zip ... [Done]\n",
      "Inflating...\n",
      "Downloading URL https://mast.stsci.edu/tesscut/api/v0.1/astrocut?ra=242.601313649114&dec=43.8176385378053&y=31&x=31&units=px&sector=25 to C:\\Users\\nosal\\.eleanor/tesscut\\tesscut_20211208235411.zip ... [Done]\n",
      "Inflating...\n",
      "Searching with limb-darkening estimates using quadratic LD (a,b)= (0.4036, 0.2028)\n",
      "Transit Least Squares TLS 1.0.28 (13 June 2021)\n",
      "Creating model cache for 43 durations\n",
      "Searching 2392 data points, 5413 periods from 0.601 to 26.739 days\n",
      "Using all 8 CPU threads\n"
     ]
    },
    {
     "name": "stderr",
     "output_type": "stream",
     "text": [
      "100%|██████████| 5413/5413 periods | 00:16<00:00\n"
     ]
    },
    {
     "name": "stdout",
     "output_type": "stream",
     "text": [
      "SNR test... Passed\n",
      "SNR:  9.46776524712635\n",
      "SDE test... Failed\n",
      "SDE:  6.323598736849314\n",
      "Depth test... Passed\n",
      "Max deviation:  0.22271001606143426\n",
      "Average deviation:  0.14847334404095622\n",
      "There's probably no transiting planet in here\n",
      "Found star in Sector(s) 23\n",
      "Downloading URL https://mast.stsci.edu/tesscut/api/v0.1/astrocut?ra=206.738010571578&dec=6.35037393863571&y=31&x=31&units=px&sector=23 to C:\\Users\\nosal\\.eleanor/tesscut\\tesscut_20211208235442.zip ... [Done]\n",
      "Inflating...\n",
      "Searching with limb-darkening estimates using quadratic LD (a,b)= (0.3599, 0.215)\n",
      "Transit Least Squares TLS 1.0.28 (13 June 2021)\n",
      "Creating model cache for 38 durations\n",
      "Searching 1105 data points, 2342 periods from 0.602 to 12.959 days\n",
      "Using all 8 CPU threads\n"
     ]
    },
    {
     "name": "stderr",
     "output_type": "stream",
     "text": [
      "100%|██████████| 2342/2342 periods | 00:10<00:00\n"
     ]
    },
    {
     "name": "stdout",
     "output_type": "stream",
     "text": [
      "SNR test... Passed\n",
      "SNR:  9.850416730050922\n",
      "SDE test... Failed\n",
      "SDE:  8.622766191297805\n",
      "Depth test... Passed\n",
      "Max deviation:  0.314239635007309\n",
      "Average deviation:  0.314239635007309\n",
      "There's probably no transiting planet in here\n",
      "Found star in Sector(s) 19\n",
      "Downloading URL https://mast.stsci.edu/tesscut/api/v0.1/astrocut?ra=62.4119008685751&dec=31.652132750218&y=31&x=31&units=px&sector=19 to C:\\Users\\nosal\\.eleanor/tesscut\\tesscut_20211208235504.zip ... [Done]\n",
      "Inflating...\n",
      "Searching with limb-darkening estimates using quadratic LD (a,b)= (0.354, 0.2157)\n",
      "Transit Least Squares TLS 1.0.28 (13 June 2021)\n",
      "Creating model cache for 37 durations\n",
      "Searching 1151 data points, 2249 periods from 0.601 to 12.521 days\n",
      "Using all 8 CPU threads\n"
     ]
    },
    {
     "name": "stderr",
     "output_type": "stream",
     "text": [
      "100%|██████████| 2249/2249 periods | 00:10<00:00\n"
     ]
    },
    {
     "name": "stdout",
     "output_type": "stream",
     "text": [
      "SNR test... Failed\n",
      "SNR:  2.049578805061857\n",
      "SDE test... Passed\n",
      "SDE:  11.676697993886684\n",
      "Depth test... Failed\n",
      "Max deviation:  1.255701604052763\n",
      "Average deviation:  1.255701604052763\n",
      "There's probably no transiting planet in here\n",
      "Found star in Sector(s) 7 34\n",
      "Downloading URL https://mast.stsci.edu/tesscut/api/v0.1/astrocut?ra=120.869448414853&dec=-1.16271089483156&y=31&x=31&units=px&sector=7 to C:\\Users\\nosal\\.eleanor/tesscut\\tesscut_20211208235525.zip ... [Done]\n",
      "Inflating...\n",
      "Downloading URL https://mast.stsci.edu/tesscut/api/v0.1/astrocut?ra=120.869448414853&dec=-1.16271089483156&y=31&x=31&units=px&sector=34 to C:\\Users\\nosal\\.eleanor/tesscut\\tesscut_20211208235532.zip ... [Done]\n",
      "Inflating...\n",
      "Searching with limb-darkening estimates using quadratic LD (a,b)= (0.371, 0.2094)\n",
      "Transit Least Squares TLS 1.0.28 (13 June 2021)\n",
      "Creating model cache for 43 durations\n",
      "Searching 4528 data points, 77247 periods from 0.602 to 26.999 days\n",
      "Using all 8 CPU threads\n"
     ]
    },
    {
     "name": "stderr",
     "output_type": "stream",
     "text": [
      "100%|██████████| 77247/77247 periods | 03:22<00:00\n"
     ]
    },
    {
     "name": "stdout",
     "output_type": "stream",
     "text": [
      "SNR test... Failed\n",
      "SNR:  nan\n",
      "SDE test... Passed\n",
      "SDE:  13.939819425298808\n",
      "Depth test... Failed\n",
      "Max deviation:  nan\n",
      "Average deviation:  nan\n",
      "There's probably no transiting planet in here\n"
     ]
    }
   ],
   "source": [
    "for i in range(len(stars_save)):\n",
    "    if stars_save[i].complete is False:\n",
    "\n",
    "        star_values = []\n",
    "\n",
    "        stars_save[i].get_data()\n",
    "        stars_save[i].mask_data(0.950, 1.02)\n",
    "        stars_save[i].run_tls()\n",
    "        stars_save[i].vettingRoutine(50)\n",
    "        stars_save[i].transits_test()\n",
    "        stars_save[i].get_results()\n",
    "\n",
    "        star_values.append(stars_save[i].name) \n",
    "        star_values.append(stars_save[i].tic_id) \n",
    "        star_values.append(stars_save[i].snr_results) \n",
    "        star_values.append(stars_save[i].results.snr) \n",
    "        star_values.append(stars_save[i].sde_results) \n",
    "        star_values.append(stars_save[i].results.SDE) \n",
    "        star_values.append(stars_save[i].depth_results) \n",
    "        star_values.append(stars_save[i].max_deviation) \n",
    "        star_values.append(stars_save[i].avg_deviation)\n",
    "        star_values.append(stars_save[i].transits_results)\n",
    "        star_values.append(stars_save[i].results.distinct_transit_count)\n",
    "        star_values.append(stars_save[i].radius)\n",
    "        star_values.append(stars_save[i].results.period)\n",
    "        star_values.append(stars_save[i].results.duration)\n",
    "\n",
    "        with open('your csv file to save the data goes here', 'a') as outfile:\n",
    "            writer = csv.writer(outfile)\n",
    "            writer.writerow(star_values)"
   ]
  }
 ],
 "metadata": {
  "interpreter": {
   "hash": "e8e67291fb397a699d14315a8524f1eb07cacc2207363209a574351950b86262"
  },
  "kernelspec": {
   "display_name": "Python 3.7.8 64-bit",
   "name": "python3"
  },
  "language_info": {
   "codemirror_mode": {
    "name": "ipython",
    "version": 3
   },
   "file_extension": ".py",
   "mimetype": "text/x-python",
   "name": "python",
   "nbconvert_exporter": "python",
   "pygments_lexer": "ipython3",
   "version": "3.7.8"
  },
  "orig_nbformat": 4
 },
 "nbformat": 4,
 "nbformat_minor": 2
}
